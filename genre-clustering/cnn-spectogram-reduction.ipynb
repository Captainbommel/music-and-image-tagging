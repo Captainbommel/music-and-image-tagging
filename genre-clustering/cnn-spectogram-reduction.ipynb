{
 "cells": [
  {
   "cell_type": "code",
   "execution_count": 1,
   "id": "e5393772-de05-4c2e-b679-bc8fdac79562",
   "metadata": {},
   "outputs": [],
   "source": [
    "import librosa\n",
    "import librosa.display\n",
    "\n",
    "from scipy.signal import savgol_filter\n",
    "from dotenv import load_dotenv\n",
    "\n",
    "import os\n",
    "import gc, time, datetime\n",
    "from os import listdir, getenv\n",
    "\n",
    "import matplotlib.pyplot as plt\n",
    "import plotly.graph_objects as go\n",
    "\n",
    "import torch\n",
    "from torch.utils.data import Dataset, DataLoader\n",
    "import numpy as np\n",
    "\n",
    "from torchvision.transforms import v2 as transforms\n",
    "import torchvision.models as models\n",
    "\n",
    "from torch.nn.functional import cosine_similarity\n",
    "import torch.optim.lr_scheduler as lr_scheduler\n",
    "\n",
    "# load the environment variables\n",
    "load_dotenv()\n",
    "PROJECT_PATH = getenv('PROJECT_PATH')\n",
    "\n",
    "# set the path to music files\n",
    "MUSIC_PATH = PROJECT_PATH + '/genre-clustering/previews/'\n",
    "SPECTOGRAM_PATH = PROJECT_PATH + '/genre-clustering/spectograms/'\n",
    "TRAINING_DATA_PATH = PROJECT_PATH + '/data/'"
   ]
  },
  {
   "cell_type": "code",
   "execution_count": 3,
   "id": "983fc41a-bb1a-4d23-ace7-3f36b5d059c4",
   "metadata": {
    "editable": true,
    "slideshow": {
     "slide_type": ""
    },
    "tags": []
   },
   "outputs": [],
   "source": [
    "# convert previews into spectograms\n",
    "filenames = listdir(MUSIC_PATH)[0:10]\n",
    "mel_filter = True\n",
    "\n",
    "for filename in filenames:\n",
    "    y, sr = librosa.load(MUSIC_PATH + filename)\n",
    "    D = librosa.amplitude_to_db(np.abs(librosa.stft(y)), ref=np.max)\n",
    "    if mel_filter:\n",
    "        D = librosa.feature.melspectrogram(S=D, sr=sr)\n",
    "    np.save(SPECTOGRAM_PATH + filename + \".npy\", D)\n",
    "\n",
    "# prepare data\n",
    "filenames = listdir(SPECTOGRAM_PATH)\n",
    "data = [np.load(SPECTOGRAM_PATH + filename) for filename in filenames]"
   ]
  },
  {
   "cell_type": "code",
   "execution_count": 4,
   "id": "2bb62332-38cd-44c6-877c-1160dbcf7a52",
   "metadata": {},
   "outputs": [],
   "source": [
    "def custom_hist(arr):\n",
    "    labels, counts = np.unique(arr, return_counts=True)\n",
    "    plt.bar(labels, counts, align='center')\n",
    "    plt.gca().set_xticks(labels)\n",
    "    plt.show()"
   ]
  },
  {
   "cell_type": "code",
   "execution_count": 5,
   "id": "bb9832f7-fc62-47ba-bbf4-817939bc7d7c",
   "metadata": {},
   "outputs": [
    {
     "data": {
      "image/png": "[encoded data removed]",
      "text/plain": [
       "<Figure size 1800x200 with 1 Axes>"
      ]
     },
     "metadata": {},
     "output_type": "display_data"
    }
   ],
   "source": [
    "lengths = []\n",
    "for i, spec in enumerate(data):\n",
    "    lengths.append(spec.shape[1])\n",
    "plt.figure(figsize=(18,2))\n",
    "plt.xticks(rotation=35)\n",
    "custom_hist(lengths)"
   ]
  },
  {
   "cell_type": "code",
   "execution_count": 6,
   "id": "706388a7-2514-4172-8a7b-8a115d6d220e",
   "metadata": {},
   "outputs": [],
   "source": [
    "# remove too short spectograms\n",
    "remove_index = [147]\n",
    "for idx in remove_index:\n",
    "    data.pop(idx)"
   ]
  },
  {
   "cell_type": "code",
   "execution_count": 7,
   "id": "f5bfc37b-9260-4688-b58d-4d3d042683e9",
   "metadata": {},
   "outputs": [
    {
     "data": {
      "image/png": "[encoded data removed]",
      "text/plain": [
       "<Figure size 1800x200 with 1 Axes>"
      ]
     },
     "metadata": {},
     "output_type": "display_data"
    }
   ],
   "source": [
    "lengths = []\n",
    "for i, spec in enumerate(data):\n",
    "    lengths.append(spec.shape[1])\n",
    "plt.figure(figsize=(18,2))\n",
    "plt.xticks(rotation=40)\n",
    "custom_hist(lengths)"
   ]
  },
  {
   "cell_type": "code",
   "execution_count": 8,
   "id": "9a61bfbe-22aa-462e-95eb-b9880e990278",
   "metadata": {},
   "outputs": [
    {
     "name": "stdout",
     "output_type": "stream",
     "text": [
      "Device: cuda\n"
     ]
    }
   ],
   "source": [
    "# precision \n",
    "torch.set_default_dtype(torch.float64)\n",
    "\n",
    "# set device to cuda\n",
    "device = torch.device(\"cuda\") if torch.cuda.is_available() else torch.device(\"cpu\")\n",
    "torch.set_default_device(device); print(\"Device:\", device)"
   ]
  },
  {
   "cell_type": "code",
   "execution_count": 9,
   "id": "19826e97-99f2-4d79-a939-21635189a1d5",
   "metadata": {},
   "outputs": [
    {
     "name": "stdout",
     "output_type": "stream",
     "text": [
      "Shape of data: torch.Size([3, 128, 1251])\n"
     ]
    }
   ],
   "source": [
    "# bring data into right shape\n",
    "data = torch.tensor(np.array([data[i][:, 0:np.min(lengths)] for i in range(len(data))]), dtype=torch.float64 ).unsqueeze(1).repeat(1,3,1,1)\n",
    "print(f\"Shape of data: {data[0].shape}\")"
   ]
  },
  {
   "cell_type": "code",
   "execution_count": 10,
   "id": "d2363209-a39b-4e78-8681-56d8517e9ff2",
   "metadata": {},
   "outputs": [],
   "source": [
    "def multi_normalize(dataset, val=(0,1)):\n",
    "    for map in dataset:\n",
    "        for i in range(3):\n",
    "            map[i] = ((map[i] - map[i].min()) / (map[i].max() - map[i].min())) * np.abs(val[0] - val[1]) + val[0]\n",
    "\n",
    "multi_normalize(data)"
   ]
  },
  {
   "cell_type": "code",
   "execution_count": 11,
   "id": "99d1eae3-2639-490c-b7ea-c2c4ac4a3ebc",
   "metadata": {},
   "outputs": [
    {
     "data": {
      "image/png": "[encoded data removed]",
      "text/plain": [
       "<Figure size 640x480 with 1 Axes>"
      ]
     },
     "metadata": {},
     "output_type": "display_data"
    }
   ],
   "source": [
    "plt.imshow(data[333, 0, :, :].cpu());"
   ]
  },
  {
   "cell_type": "code",
   "execution_count": 12,
   "id": "59d9ff66-e97a-488a-9f72-b0706ab8fcae",
   "metadata": {
    "editable": true,
    "slideshow": {
     "slide_type": ""
    },
    "tags": []
   },
   "outputs": [],
   "source": [
    "class SpectralDataset(Dataset):\n",
    "    \n",
    "    def __init__(self, spectograms, transform, views, mb_size):\n",
    "        self.data = transform(spectograms, views, mb_size)\n",
    "\n",
    "    def __len__(self):\n",
    "        return len(self.data)\n",
    "\n",
    "    def __getitem__(self, idx):\n",
    "            return self.data[idx]\n",
    "\n",
    "class SpectralTransforms(object):\n",
    "\n",
    "    def __init__(self, transforms):\n",
    "        self.transforms = transforms\n",
    "\n",
    "    def __call__(self, data, n, mb_size):\n",
    "        return torch.cat([torch.cat([self.transforms(data[mb_size*j:mb_size*(j+1)]) for i in range(n)]) for j in range(len(data) // mb_size)])"
   ]
  },
  {
   "cell_type": "code",
   "execution_count": 13,
   "id": "7a5de79c-261c-4d17-ba5d-072d34e68eda",
   "metadata": {},
   "outputs": [],
   "source": [
    "ten_second_crop = transforms.RandomResizedCrop(size=(128, 1323//3), antialias=False)\n",
    "flip = transforms.RandomHorizontalFlip()\n",
    "\n",
    "spectral_trafos = SpectralTransforms(transforms.Compose([ten_second_crop, flip]))\n",
    "\n",
    "def shuffled_dataloader(minibatch_size):\n",
    "    dataset = SpectralDataset(data[torch.randperm(data.shape[0])], spectral_trafos, 2, minibatch_size)\n",
    "    dataloader = DataLoader(dataset, batch_size=minibatch_size*2, drop_last=True)\n",
    "    return dataloader"
   ]
  },
  {
   "cell_type": "markdown",
   "id": "dea92492-001b-4492-b1ad-5bb3e0411447",
   "metadata": {},
   "source": [
    "## NUR ÄHNLICHKEITEN HERVORHEBEN"
   ]
  },
  {
   "cell_type": "code",
   "execution_count": 14,
   "id": "6042f947-5c81-4bad-b223-8d5be8ac07e5",
   "metadata": {
    "editable": true,
    "slideshow": {
     "slide_type": ""
    },
    "tags": []
   },
   "outputs": [],
   "source": [
    "def loss_fn(repres, temp):\n",
    "        \n",
    "    # cosine similarity\n",
    "    cos_sim = cosine_similarity(repres[:,None,:], repres[None,:,:], dim=-1)\n",
    "        \n",
    "    # mask out cosine similarity to itself\n",
    "    self_mask = torch.eye(cos_sim.shape[0], dtype=torch.bool, device=cos_sim.device)\n",
    "    cos_sim.masked_fill_(self_mask, -9e15)\n",
    "    \n",
    "    # positive examples\n",
    "    pos_mask = torch.zeros(*cos_sim.shape, dtype=torch.bool).to('cuda')\n",
    "    Identity = torch.eye(cos_sim.shape[0], dtype=torch.bool).to('cuda')\n",
    "    \n",
    "    pos_mask = pos_mask.masked_fill_(Identity, 0)\n",
    "    pos_mask = self_mask.roll(shifts=cos_sim.shape[0]//2, dims=0) \n",
    "        \n",
    "    # negative examples\n",
    "    neg_mask = pos_mask.logical_not()\n",
    "\n",
    "    # nt-xent loss  \n",
    "    nll = -cos_sim[pos_mask] / temp + torch.logsumexp(cos_sim[neg_mask] / temp, dim=-1)\n",
    "    nll = nll.mean()\n",
    "\n",
    "    \n",
    "    return nll\n"
   ]
  },
  {
   "cell_type": "code",
   "execution_count": 15,
   "id": "d3261a4f-e13b-4f83-b8ae-649a2980f0cf",
   "metadata": {},
   "outputs": [],
   "source": [
    "def train_loop(dataloader, model, loss_fn, temp, optimizer, scheduler, logdata):\n",
    "    size = len(dataloader.dataset) \n",
    "    \n",
    "    for batch, X, in enumerate(dataloader):\n",
    "\n",
    "        # compute representation and loss\n",
    "        representations = model.forward(X)\n",
    "        loss = loss_fn(representations, temp)\n",
    "\n",
    "        # Backpropagation\n",
    "        loss.backward()\n",
    "        optimizer.step()\n",
    "        optimizer.zero_grad()\n",
    "\n",
    "        # log data      \n",
    "        loss, current = loss.item(), (batch + 1) * len(X)\n",
    "        logdata.append(loss)\n",
    "        print(f\"batch loss: {loss:>7f}  [{current:>5d}/{size:>5d}]\")\n"
   ]
  },
  {
   "cell_type": "code",
   "execution_count": 16,
   "id": "0ae32861-3485-4fb2-9ea3-e06abdf2fa1c",
   "metadata": {},
   "outputs": [],
   "source": [
    "model = models.resnet34() #torchvision.models.densenet121()\n",
    "\n",
    "optimizer = torch.optim.AdamW(model.parameters(), lr=0.001)\n",
    "\n",
    "scheduler = lr_scheduler.ReduceLROnPlateau(optimizer, \n",
    "                                           'min', \n",
    "                                           factor=0.1, \n",
    "                                           patience=10, \n",
    "                                           cooldown=0,\n",
    "                                           threshold=0.01,\n",
    "                                           min_lr=1e-6)\n",
    "\n",
    "scheduler = lr_scheduler.ReduceLROnPlateau(optimizer)"
   ]
  },
  {
   "cell_type": "code",
   "execution_count": 17,
   "id": "f0ddf791-2e4a-479b-921f-8e1a7d4008c2",
   "metadata": {
    "editable": true,
    "scrolled": true,
    "slideshow": {
     "slide_type": ""
    },
    "tags": []
   },
   "outputs": [
    {
     "name": "stdout",
     "output_type": "stream",
     "text": [
      "--- Epoch 1 -----------------------\n",
      "batch loss: 5.417147  [   16/ 1328]\n",
      "batch loss: 5.231954  [   32/ 1328]\n",
      "batch loss: 4.724850  [   48/ 1328]\n",
      "batch loss: 4.623953  [   64/ 1328]\n",
      "batch loss: 4.402895  [   80/ 1328]\n",
      "batch loss: 4.956182  [   96/ 1328]\n",
      "batch loss: 4.905658  [  112/ 1328]\n",
      "batch loss: 4.657992  [  128/ 1328]\n",
      "batch loss: 5.049735  [  144/ 1328]\n",
      "batch loss: 5.228927  [  160/ 1328]\n",
      "batch loss: 4.839766  [  176/ 1328]\n",
      "batch loss: 5.621540  [  192/ 1328]\n",
      "batch loss: 4.720231  [  208/ 1328]\n",
      "batch loss: 4.840000  [  224/ 1328]\n",
      "batch loss: 4.726261  [  240/ 1328]\n",
      "batch loss: 4.578810  [  256/ 1328]\n",
      "batch loss: 4.794797  [  272/ 1328]\n",
      "batch loss: 4.393917  [  288/ 1328]\n",
      "batch loss: 4.650621  [  304/ 1328]\n",
      "batch loss: 4.323807  [  320/ 1328]\n",
      "batch loss: 4.284436  [  336/ 1328]\n",
      "batch loss: 4.280003  [  352/ 1328]\n",
      "batch loss: 4.303552  [  368/ 1328]\n",
      "batch loss: 4.386559  [  384/ 1328]\n",
      "batch loss: 4.235231  [  400/ 1328]\n",
      "batch loss: 4.287390  [  416/ 1328]\n",
      "batch loss: 4.666129  [  432/ 1328]\n",
      "batch loss: 4.531784  [  448/ 1328]\n",
      "batch loss: 4.956865  [  464/ 1328]\n",
      "batch loss: 4.834149  [  480/ 1328]\n",
      "batch loss: 4.697790  [  496/ 1328]\n",
      "batch loss: 4.762373  [  512/ 1328]\n",
      "batch loss: 4.833173  [  528/ 1328]\n",
      "batch loss: 5.108182  [  544/ 1328]\n",
      "batch loss: 5.000023  [  560/ 1328]\n",
      "batch loss: 4.647075  [  576/ 1328]\n",
      "batch loss: 4.409162  [  592/ 1328]\n",
      "batch loss: 4.453736  [  608/ 1328]\n",
      "batch loss: 4.368945  [  624/ 1328]\n",
      "batch loss: 4.292755  [  640/ 1328]\n",
      "batch loss: 4.486466  [  656/ 1328]\n",
      "batch loss: 5.273314  [  672/ 1328]\n",
      "batch loss: 5.282084  [  688/ 1328]\n",
      "batch loss: 4.240394  [  704/ 1328]\n",
      "batch loss: 4.469276  [  720/ 1328]\n",
      "batch loss: 4.775242  [  736/ 1328]\n",
      "batch loss: 4.273736  [  752/ 1328]\n",
      "batch loss: 4.259888  [  768/ 1328]\n",
      "batch loss: 4.389224  [  784/ 1328]\n",
      "batch loss: 4.274811  [  800/ 1328]\n",
      "batch loss: 4.315143  [  816/ 1328]\n",
      "batch loss: 4.581570  [  832/ 1328]\n",
      "batch loss: 4.281286  [  848/ 1328]\n",
      "batch loss: 4.248235  [  864/ 1328]\n",
      "batch loss: 4.370282  [  880/ 1328]\n",
      "batch loss: 4.161801  [  896/ 1328]\n",
      "batch loss: 4.339764  [  912/ 1328]\n",
      "batch loss: 4.212581  [  928/ 1328]\n",
      "batch loss: 4.840776  [  944/ 1328]\n",
      "batch loss: 4.251226  [  960/ 1328]\n",
      "batch loss: 4.243587  [  976/ 1328]\n",
      "batch loss: 4.195801  [  992/ 1328]\n",
      "batch loss: 4.342109  [ 1008/ 1328]\n",
      "batch loss: 4.581290  [ 1024/ 1328]\n",
      "batch loss: 4.328638  [ 1040/ 1328]\n",
      "batch loss: 4.361835  [ 1056/ 1328]\n",
      "batch loss: 5.004967  [ 1072/ 1328]\n",
      "batch loss: 4.402544  [ 1088/ 1328]\n",
      "batch loss: 4.394557  [ 1104/ 1328]\n",
      "batch loss: 4.221895  [ 1120/ 1328]\n",
      "batch loss: 4.883918  [ 1136/ 1328]\n",
      "batch loss: 4.766431  [ 1152/ 1328]\n",
      "batch loss: 4.243042  [ 1168/ 1328]\n",
      "batch loss: 4.373299  [ 1184/ 1328]\n",
      "batch loss: 4.115653  [ 1200/ 1328]\n",
      "batch loss: 4.879869  [ 1216/ 1328]\n",
      "batch loss: 5.361226  [ 1232/ 1328]\n",
      "batch loss: 5.376407  [ 1248/ 1328]\n",
      "batch loss: 5.081598  [ 1264/ 1328]\n",
      "batch loss: 4.331132  [ 1280/ 1328]\n",
      "batch loss: 4.453343  [ 1296/ 1328]\n",
      "batch loss: 4.166849  [ 1312/ 1328]\n",
      "batch loss: 5.209472  [ 1328/ 1328]\n",
      "time estimate: 16:56:27\n"
     ]
    },
    {
     "ename": "RuntimeError",
     "evalue": "Parent directory C:/Users/ldiep/Desktop/music-and-image-tagging/data does not exist.",
     "output_type": "error",
     "traceback": [
      "\u001b[1;31m---------------------------------------------------------------------------\u001b[0m",
      "\u001b[1;31mRuntimeError\u001b[0m                              Traceback (most recent call last)",
      "Cell \u001b[1;32mIn[17], line 23\u001b[0m\n\u001b[0;32m     20\u001b[0m     \u001b[38;5;28mprint\u001b[39m(\u001b[38;5;124mf\u001b[39m\u001b[38;5;124m\"\u001b[39m\u001b[38;5;124mtime estimate: \u001b[39m\u001b[38;5;132;01m{\u001b[39;00m\u001b[38;5;28mstr\u001b[39m(time_estimate\u001b[38;5;241m.\u001b[39mtime())[\u001b[38;5;241m0\u001b[39m:\u001b[38;5;241m8\u001b[39m]\u001b[38;5;132;01m}\u001b[39;00m\u001b[38;5;124m\"\u001b[39m)\n\u001b[0;32m     22\u001b[0m \u001b[38;5;66;03m# save model and loss\u001b[39;00m\n\u001b[1;32m---> 23\u001b[0m \u001b[43mtorch\u001b[49m\u001b[38;5;241;43m.\u001b[39;49m\u001b[43msave\u001b[49m\u001b[43m(\u001b[49m\u001b[43mmodel\u001b[49m\u001b[43m,\u001b[49m\u001b[43m \u001b[49m\u001b[43mTRAINING_DATA_PATH\u001b[49m\u001b[43m \u001b[49m\u001b[38;5;241;43m+\u001b[39;49m\u001b[43m \u001b[49m\u001b[38;5;124;43m'\u001b[39;49m\u001b[38;5;124;43mmodel.pt\u001b[39;49m\u001b[38;5;124;43m'\u001b[39;49m\u001b[43m)\u001b[49m\n\u001b[0;32m     24\u001b[0m np\u001b[38;5;241m.\u001b[39msave(TRAINING_DATA_PATH \u001b[38;5;241m+\u001b[39m \u001b[38;5;124m'\u001b[39m\u001b[38;5;124mloss.npy\u001b[39m\u001b[38;5;124m'\u001b[39m, log)\n",
      "File \u001b[1;32m~\\AppData\\Local\\Programs\\Python\\Python312\\Lib\\site-packages\\torch\\serialization.py:627\u001b[0m, in \u001b[0;36msave\u001b[1;34m(obj, f, pickle_module, pickle_protocol, _use_new_zipfile_serialization, _disable_byteorder_record)\u001b[0m\n\u001b[0;32m    624\u001b[0m _check_save_filelike(f)\n\u001b[0;32m    626\u001b[0m \u001b[38;5;28;01mif\u001b[39;00m _use_new_zipfile_serialization:\n\u001b[1;32m--> 627\u001b[0m     \u001b[38;5;28;01mwith\u001b[39;00m \u001b[43m_open_zipfile_writer\u001b[49m\u001b[43m(\u001b[49m\u001b[43mf\u001b[49m\u001b[43m)\u001b[49m \u001b[38;5;28;01mas\u001b[39;00m opened_zipfile:\n\u001b[0;32m    628\u001b[0m         _save(obj, opened_zipfile, pickle_module, pickle_protocol, _disable_byteorder_record)\n\u001b[0;32m    629\u001b[0m         \u001b[38;5;28;01mreturn\u001b[39;00m\n",
      "File \u001b[1;32m~\\AppData\\Local\\Programs\\Python\\Python312\\Lib\\site-packages\\torch\\serialization.py:501\u001b[0m, in \u001b[0;36m_open_zipfile_writer\u001b[1;34m(name_or_buffer)\u001b[0m\n\u001b[0;32m    499\u001b[0m \u001b[38;5;28;01melse\u001b[39;00m:\n\u001b[0;32m    500\u001b[0m     container \u001b[38;5;241m=\u001b[39m _open_zipfile_writer_buffer\n\u001b[1;32m--> 501\u001b[0m \u001b[38;5;28;01mreturn\u001b[39;00m \u001b[43mcontainer\u001b[49m\u001b[43m(\u001b[49m\u001b[43mname_or_buffer\u001b[49m\u001b[43m)\u001b[49m\n",
      "File \u001b[1;32m~\\AppData\\Local\\Programs\\Python\\Python312\\Lib\\site-packages\\torch\\serialization.py:472\u001b[0m, in \u001b[0;36m_open_zipfile_writer_file.__init__\u001b[1;34m(self, name)\u001b[0m\n\u001b[0;32m    470\u001b[0m     \u001b[38;5;28msuper\u001b[39m()\u001b[38;5;241m.\u001b[39m\u001b[38;5;21m__init__\u001b[39m(torch\u001b[38;5;241m.\u001b[39m_C\u001b[38;5;241m.\u001b[39mPyTorchFileWriter(\u001b[38;5;28mself\u001b[39m\u001b[38;5;241m.\u001b[39mfile_stream))\n\u001b[0;32m    471\u001b[0m \u001b[38;5;28;01melse\u001b[39;00m:\n\u001b[1;32m--> 472\u001b[0m     \u001b[38;5;28msuper\u001b[39m()\u001b[38;5;241m.\u001b[39m\u001b[38;5;21m__init__\u001b[39m(\u001b[43mtorch\u001b[49m\u001b[38;5;241;43m.\u001b[39;49m\u001b[43m_C\u001b[49m\u001b[38;5;241;43m.\u001b[39;49m\u001b[43mPyTorchFileWriter\u001b[49m\u001b[43m(\u001b[49m\u001b[38;5;28;43mself\u001b[39;49m\u001b[38;5;241;43m.\u001b[39;49m\u001b[43mname\u001b[49m\u001b[43m)\u001b[49m)\n",
      "\u001b[1;31mRuntimeError\u001b[0m: Parent directory C:/Users/ldiep/Desktop/music-and-image-tagging/data does not exist."
     ]
    }
   ],
   "source": [
    "model.train()\n",
    "epochs = 1\n",
    "minibatch_size = 8\n",
    "log = []\n",
    "\n",
    "for epoch in range(epochs):\n",
    "    time_delta = time.perf_counter()\n",
    "    print(f\"--- Epoch {epoch+1} -----------------------\")\n",
    "\n",
    "    # create training set and train model\n",
    "    dataloader = shuffled_dataloader(minibatch_size)\n",
    "    train_loop(dataloader, model, loss_fn, 0.7, optimizer, scheduler, log)\n",
    "\n",
    "    # free some memory\n",
    "    torch.cuda.empty_cache()\n",
    "    gc.collect()\n",
    "\n",
    "    # get a finnish time estimate\n",
    "    time_estimate = datetime.datetime.now() + datetime.timedelta(seconds=(epochs - epoch - 1) * (time.perf_counter() - time_delta))\n",
    "    print(f\"time estimate: {str(time_estimate.time())[0:8]}\")\n",
    "\n",
    "# save model and loss\n",
    "torch.save(model, TRAINING_DATA_PATH + 'model.pt')\n",
    "np.save(TRAINING_DATA_PATH + 'loss.npy', log)"
   ]
  },
  {
   "cell_type": "code",
   "execution_count": null,
   "id": "d5220c73-bdb8-43c0-b676-14c87e8d1529",
   "metadata": {},
   "outputs": [],
   "source": [
    "# execute if stoppt manually\n",
    "torch.save(model,TRAINING_DATA_PATH + 'model.pt')\n",
    "np.save(TRAINING_DATA_PATH + 'loss.npy', log)"
   ]
  },
  {
   "cell_type": "code",
   "execution_count": null,
   "id": "fbda93b1-4ece-4ccb-8041-581e7677127f",
   "metadata": {},
   "outputs": [],
   "source": [
    "# plot with filter applied\n",
    "plt.plot(log)\n",
    "plt.plot(savgol_filter(log, window_length=20, polyorder=4))\n",
    "plt.savefig(TRAINING_DATA_PATH + 'loss-plot.png')"
   ]
  },
  {
   "cell_type": "code",
   "execution_count": null,
   "id": "c6af12cf-cba6-4322-9d62-714b0b182bfa",
   "metadata": {
    "scrolled": true
   },
   "outputs": [],
   "source": [
    "# load the saved model\n",
    "model = torchvision.models.resnet34()\n",
    "state_dict = torch.load(TRAINING_DATA_PATH + 'model.pt').state_dict()\n",
    "model.load_state_dict(state_dict)\n",
    "model.eval();\n",
    "\n",
    "# evaluate it\n",
    "reduced_data = model.forward(data[0:400]).numpy(force=True)\n",
    "np.save('data/reduced_data.npy', reduced_data)"
   ]
  }
 ],
 "metadata": {
  "kernelspec": {
   "display_name": "Python 3 (ipykernel)",
   "language": "python",
   "name": "python3"
  },
  "language_info": {
   "codemirror_mode": {
    "name": "ipython",
    "version": 3
   },
   "file_extension": ".py",
   "mimetype": "text/x-python",
   "name": "python",
   "nbconvert_exporter": "python",
   "pygments_lexer": "ipython3",
   "version": "3.12.4"
  }
 },
 "nbformat": 4,
 "nbformat_minor": 5
}
