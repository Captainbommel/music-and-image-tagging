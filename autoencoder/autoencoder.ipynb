{
 "cells": [
  {
   "cell_type": "code",
   "execution_count": 1,
   "id": "da7e5f4b-222f-4255-bfb9-f7df09f06766",
   "metadata": {},
   "outputs": [],
   "source": [
    "import torch\n",
    "from tqdm import tqdm\n",
    "from torchvision import datasets\n",
    "from torchvision import transforms\n",
    "import matplotlib.pyplot as plt\n",
    "\n",
    "# transforms images to a PyTorch tensor\n",
    "tensor_transform = transforms.ToTensor()\n",
    "\n",
    "# download MNIST Dataset\n",
    "dataset = datasets.MNIST(\n",
    "    root=\"./data\", train=True, download=True, transform=tensor_transform\n",
    ")\n",
    "\n",
    "# initialize dataloader\n",
    "loader = torch.utils.data.DataLoader(\n",
    "    dataset=dataset,\n",
    "    batch_size=32,\n",
    "    shuffle=True\n",
    ")"
   ]
  },
  {
   "cell_type": "code",
   "execution_count": 2,
   "id": "a9a73524-0891-4676-8da9-c08efeb3a393",
   "metadata": {},
   "outputs": [],
   "source": [
    "# creating a PyTorch nn network \n",
    "# 28*28 ==> 9 ==> 28*28\n",
    "class AE(torch.nn.Module):\n",
    "    def __init__(self):\n",
    "        super().__init__()\n",
    "\n",
    "        # Building an linear encoder with Linear\n",
    "        # layer followed by Relu activation function\n",
    "        # 784 ==> 9\n",
    "        self.encoder = torch.nn.Sequential(\n",
    "            torch.nn.Linear(28 * 28, 128),\n",
    "            torch.nn.ReLU(),\n",
    "            torch.nn.Linear(128, 64),\n",
    "            torch.nn.ReLU(),\n",
    "            torch.nn.Linear(64, 36),\n",
    "            torch.nn.ReLU(),\n",
    "            torch.nn.Linear(36, 18),\n",
    "            torch.nn.ReLU(),\n",
    "            torch.nn.Linear(18, 9),\n",
    "        )\n",
    "\n",
    "        # Building an linear decoder with Linear\n",
    "        # layer followed by Relu activation function\n",
    "        # The Sigmoid activation function\n",
    "        # outputs the value between 0 and 1\n",
    "        # 9 ==> 784\n",
    "        self.decoder = torch.nn.Sequential(\n",
    "            torch.nn.Linear(9, 18),\n",
    "            torch.nn.ReLU(),\n",
    "            torch.nn.Linear(18, 36),\n",
    "            torch.nn.ReLU(),\n",
    "            torch.nn.Linear(36, 64),\n",
    "            torch.nn.ReLU(),\n",
    "            torch.nn.Linear(64, 128),\n",
    "            torch.nn.ReLU(),\n",
    "            torch.nn.Linear(128, 28 * 28),\n",
    "            torch.nn.Sigmoid(),\n",
    "        )\n",
    "\n",
    "    def forward(self, x):\n",
    "        encoded = self.encoder(x)\n",
    "        decoded = self.decoder(encoded)\n",
    "        return decoded\n",
    "\n",
    "    def encode(self, x):\n",
    "        encoded = self.encoder(x)\n",
    "        return encoded\n"
   ]
  },
  {
   "cell_type": "code",
   "execution_count": 3,
   "id": "757a20c0-a9d5-42cd-97cb-510cda7d7c02",
   "metadata": {},
   "outputs": [],
   "source": [
    "# Model Initialization\n",
    "model = AE()\n",
    "\n",
    "# validation with MSE loss\n",
    "loss_function = torch.nn.MSELoss()\n",
    "\n",
    "# Adam Optimizer with lr = 0.0001\n",
    "optimizer = torch.optim.Adam(model.parameters(), lr=1e-4, weight_decay=1e-8)"
   ]
  },
  {
   "cell_type": "code",
   "execution_count": 4,
   "id": "d1524a6d-7c61-4299-9c85-6ab279150ea7",
   "metadata": {},
   "outputs": [
    {
     "name": "stderr",
     "output_type": "stream",
     "text": [
      "100%|██████████████████████████████████████████████████████████████████████████████████| 40/40 [07:43<00:00, 11.59s/it]\n"
     ]
    }
   ],
   "source": [
    "epochs = 40\n",
    "outputs = []\n",
    "losses = []\n",
    "model.train()\n",
    "\n",
    "for epoch in tqdm(range(epochs)):\n",
    "    for image, _ in loader:\n",
    "        \n",
    "        #print(image.shape)  ->    #! try out gpu again\n",
    "        #break\n",
    "        \n",
    "        # evaluate auto encoder\n",
    "        image = image.reshape(-1, 28 * 28)\n",
    "        reconstructed = model(image)\n",
    "\n",
    "        # calculate loss\n",
    "        loss = loss_function(reconstructed, image)\n",
    "\n",
    "        # update parameters\n",
    "        optimizer.zero_grad()\n",
    "        loss.backward()\n",
    "        optimizer.step()\n",
    "\n",
    "        # store training data\n",
    "        losses.append(loss.item())\n",
    "        outputs.append((epochs, image, reconstructed))\n",
    "\n",
    "torch.save(model.state_dict(), \"autoencoder.pth\")"
   ]
  },
  {
   "cell_type": "code",
   "execution_count": 5,
   "id": "49614cce-ab2e-4e8b-be75-e8381ed08c72",
   "metadata": {},
   "outputs": [
    {
     "data": {
      "image/png": "[encoded data removed]",
      "text/plain": [
       "<Figure size 640x480 with 1 Axes>"
      ]
     },
     "metadata": {},
     "output_type": "display_data"
    }
   ],
   "source": [
    "# plot loss\n",
    "plt.figure()\n",
    "plt.plot(losses)\n",
    "plt.style.use(\"fivethirtyeight\")\n",
    "plt.xlabel(\"Iterations\"); plt.ylabel(\"Loss\");"
   ]
  },
  {
   "cell_type": "code",
   "execution_count": 6,
   "id": "bbdb34f2-30d3-4697-bbe0-b1a1c7b0339a",
   "metadata": {},
   "outputs": [],
   "source": [
    "n=-1"
   ]
  },
  {
   "cell_type": "code",
   "execution_count": 32,
   "id": "505e80e2-18d0-4e6c-966e-9b0185179a90",
   "metadata": {},
   "outputs": [
    {
     "data": {
      "image/png": "[encoded data removed]",
      "text/plain": [
       "<Figure size 640x480 with 2 Axes>"
      ]
     },
     "metadata": {},
     "output_type": "display_data"
    }
   ],
   "source": [
    "n += 1\n",
    "   \n",
    "fig, ax = plt.subplots(1,2)\n",
    "\n",
    "item = image[n].reshape(-1, 28, 28)\n",
    "ax[0].imshow(item[0])\n",
    "\n",
    "item = reconstructed[n].reshape(-1, 28, 28).detach().numpy()\n",
    "ax[1].imshow(item[0]);"
   ]
  },
  {
   "cell_type": "code",
   "execution_count": 123,
   "id": "ff8527cd-bd93-4926-9ec7-44e54a2cfdc6",
   "metadata": {
    "scrolled": true
   },
   "outputs": [],
   "source": [
    "#! this cell does not work yet\n",
    "\n",
    "model = AE();\n",
    "torch.load(\"autoencoder.pth\", model.state_dict())\n",
    "\n",
    "images1 = []\n",
    "reconstructed1 = []\n",
    "\n",
    "for image, _ in loader:\n",
    "        image = image.reshape(-1, 28 * 28)\n",
    "        reconstructed = model(image)\n",
    "\n",
    "        images1.append(image)\n",
    "        reconstructed1.append(reconstructed)"
   ]
  }
 ],
 "metadata": {
  "kernelspec": {
   "display_name": "Python 3 (ipykernel)",
   "language": "python",
   "name": "python3"
  },
  "language_info": {
   "codemirror_mode": {
    "name": "ipython",
    "version": 3
   },
   "file_extension": ".py",
   "mimetype": "text/x-python",
   "name": "python",
   "nbconvert_exporter": "python",
   "pygments_lexer": "ipython3",
   "version": "3.12.4"
  }
 },
 "nbformat": 4,
 "nbformat_minor": 5
}
